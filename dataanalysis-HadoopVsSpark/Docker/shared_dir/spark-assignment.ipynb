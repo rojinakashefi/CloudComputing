{
 "cells": [
  {
   "cell_type": "markdown",
   "id": "3e174c20",
   "metadata": {},
   "source": [
    "<div align=\"middle\">\n",
    "  <h1><b><i>تمرین سوم</i></b></h1>\n",
    " </div>\n",
    "\n",
    "\n"
   ]
  },
  {
   "cell_type": "markdown",
   "id": "24c88f6f",
   "metadata": {},
   "source": [
    "<div align=\"right\" dir=\"auto\">\n",
    "    \n",
    "   #  بخش اول:  هدوپ \n",
    "\n",
    "    ۱- به سوالات زیر پاسخ دهید\n",
    "    - مفهوم replication جیست\n",
    "    - مفهوم block در HDFS چیست و اگر بلاک‌ها را بسیار کوچک درنظر بگیریم چه مشکلی پیش می‌آید\n",
    "    \n",
    "</div>\n",
    "  \n",
    "    "
   ]
  },
  {
   "cell_type": "markdown",
   "id": "f05d87c0",
   "metadata": {},
   "source": [
    "<div align=\"right\" dir=\"auto\">\n",
    "   \n",
    "\n",
    "    ۲- در  این قسمت شما باید ابتدا دیتاست داده شده را از حالت فشرده در بیاورید و سپس فایل‌های درون آن را در کلاستر هدوپ در مسیر /homework3/dataset/ بارگزاری کنید \n",
    "    نکته: در این بخش دستورات زده شده خود را برای کار با hdfs  در ترمینال را در سلول زیر وارد نمایید\n",
    "    برای دسترسی به کامند 'hdfs dfs'  میتوانید وارد یکی از کانتینر‌های هدوپ شوید و دستور را اجرا کنید همچنین همه کانتینر‌ها دارای shared_dir\n",
    "    در روت خود هستند و این دایرکتوری در تمام کانتینر‌ها به اشتراک گذاشته شده است\n",
    "    برای چک کردن فایل‌ها در hdfs به \n",
    "    \n",
    "[HDFS webUI](http://localhost:9870/explorer.html#/)\n",
    "    \n",
    "    مراجعه کنید\n",
    " </div>"
   ]
  },
  {
   "cell_type": "markdown",
   "id": "011d1a74",
   "metadata": {},
   "source": [
    "<div align=\"right\" dir=\"auto\">\n",
    "    \n",
    "   #  بخش اول:  هدوپ \n",
    "\n",
    "    ۱-اصطلاح Data Replication به معنی ایجاد کپی ها یا Replica ها از یک استوریج روی استوریج دیگری است تا در صورت بروز خرابی و حادثه، کپی از اطلاعات موجود باشد. مکان این دستگاه ها ممکن است از شهر یا کشور متفاوتی باشد.\n",
    "    \n",
    "    ۲- بلاک در hdfs به واحد‌های ذخیره‌سازی داده گفته می‌شوند و داده ورودی برای ذخیره‌سازی در hdfs به بلاک تقسیم می‌شود و بسته به اندازه ممکن است در یک بلاک یا چند بلاک جا شود.   معمولا بلاک‌ها ۶۴ مگا بیت هستند و اگر بلاک کوچک باشد باعث می‌شود یک split ورودی نیاز به جا شدن در تعداد زیادی بلاک داشته باشه و به صورت مکرر روی hdfs بنویسیم و برای دسترسی مجدد به splitورودی باید از تعداد زیادی بلاک بخوانیم و مراجعه زیادی به hdfs داشته باشیم و این باعث می‌شود سرعت‌مان کاهش پیدا کند. همچنین می‌دانیم hdfs برای نوشتن و خواندن‌های کوچک مناسب نیست.\n",
    "</div> \n",
    "\n",
    "    # answer\n",
    "\n",
    "<div align=\"right\" dir=\"auto\">\n",
    "   \n",
    "\n",
    "    ۲- در  این قسمت شما باید ابتدا دیتاست داده شده را از حالت فشرده در بیاورید و سپس فایل‌های درون آن را در کلاستر هدوپ در مسیر /homework3/dataset/ بارگزاری کنید \n",
    "    نکته: در این بخش دستورات زده شده خود را برای کار با hdfs  در ترمینال را در سلول زیر وارد نمایید\n",
    "    برای دسترسی به کامند 'hdfs dfs'  میتوانید وارد یکی از کانتینر‌های هدوپ شوید و دستور را اجرا کنید همچنین همه کانتینر‌ها دارای shared_dir\n",
    "    در روت خود هستند و این دایرکتوری در تمام کانتینر‌ها به اشتراک گذاشته شده است\n",
    "    برای چک کردن فایل‌ها در hdfs به \n",
    "    \n",
    "[HDFS webUI](http://localhost:9870/explorer.html#/)\n",
    "    \n",
    "    مراجعه کنید\n",
    " </div>\n",
    "\n",
    "hdfs dfs -mkdir -p /homework3/dataset\n",
    "\n",
    "hdfs dfs -put shared_dir/dataset/Weapon.json /homework3/dataset/\n",
    "\n",
    "hdfs dfs -put shared_dir/dataset/War.json /homework3/dataset/\n",
    "\n",
    "------------------------------------"
   ]
  },
  {
   "cell_type": "markdown",
   "id": "96d75523",
   "metadata": {},
   "source": [
    "------------------------------------"
   ]
  },
  {
   "cell_type": "markdown",
   "id": "4c92483a",
   "metadata": {},
   "source": [
    "<div align=\"right\" dir=\"auto\">\n",
    "    \n",
    "   #  بخش دوم:  اسپارک \n",
    "\n",
    "    ۱- به سوالات زیر پاسخ دهید\n",
    "    - مزیت اسپارک نسبت به مدل قدیمی map/reduce چیست؟\n",
    "    -  تفاوت action و transform در اسپارک چیست؟\n",
    "    \n",
    "</div>\n",
    "  \n",
    "    "
   ]
  },
  {
   "cell_type": "markdown",
   "id": "60a16192",
   "metadata": {},
   "source": [
    "<div align=\"right\" dir=\"auto\">\n",
    "    \n",
    "\n",
    "    ۲- کد‌های خواسته شده در قسمت‌های پایینی را تکمیل کنید\n",
    "    (قسمت های ToDo )\n",
    "</div>\n",
    "  \n",
    "    "
   ]
  },
  {
   "cell_type": "markdown",
   "id": "dfb17d31",
   "metadata": {},
   "source": [
    "<div align=\"right\" dir=\"auto\">\n",
    "    \n",
    "    ۱-\n",
    "    \n",
    "   در معماری قدیمی map reduce خروجی نتایج map را روی localdisk می‌نویسیم ولی در sparkنتایج میانی را در ram می‌نویسیم. این مورد باعث می‌شود سرعت بسیار بالاتری داشته باشیم و همچنین اگر در مراحل میانی به failure بخوریم با بازگشت به یه مرحله قبل کار را ادامه دهیم و متوجه شویم مشکل از کجا است.\n",
    "    \n",
    "    \n",
    "</div>\n",
    " \n",
    " \n",
    " \n",
    "<div align=\"left\">\n",
    "    •  Disk Based Frameworks \n",
    "    \n",
    "            Persists intermediate results to disk \n",
    "    \n",
    "            Data is reloaded from disk with every query  \n",
    "    \n",
    "            Easy failure recovery\n",
    "    \n",
    "            Best for ETL like work-loads \n",
    "    \n",
    "            Examples: Hadoop, Dryad\n",
    "    \n",
    "   •  Memory Based Frameworks \n",
    "    \n",
    "            Circumvents heavy cost of I/O by keeping intermediate results in memory \n",
    "    \n",
    "            Sensitive to availability of memory \n",
    "    \n",
    "            Remembers operations applied to dataset \n",
    "    \n",
    "            Best for iterative workloads \n",
    "            \n",
    "            Examples: Spark, Flink\n",
    "</div>"
   ]
  },
  {
   "cell_type": "markdown",
   "id": "2ae2073a",
   "metadata": {},
   "source": [
    "<div align=\"right\" dir=\"auto\">\n",
    "    \n",
    "    ۲- \n",
    "    \n",
    "    عملیات‌ها در RDD به دو دسته تقسیم می‌شود\n",
    " </div>"
   ]
  },
  {
   "cell_type": "markdown",
   "id": "f8175161",
   "metadata": {},
   "source": [
    "•  Transformaions\n",
    "\n",
    "     Lazy operations applied on an RDD \n",
    "\n",
    "     Creates a new RDD from an existing RDD\n",
    "\n",
    "     Allows Spark to perform optimizaions\n",
    "\n",
    "     e.g. map, filter,flatMap, union, intersection, distinct, reduceByKey, groupByKey\n",
    "\n",
    "•  Actions \n",
    "\n",
    "      Returns a value to the driver program after computation\n",
    "      \n",
    "      e.g. reduce, collect, count, first, take, saveAsFile\n",
    "      \n",
    "<img src=\"https://bigdataworld.ir/wp-content/uploads/2021/01/Operations-on-RDDs-768x417.png\" width=\"250px\">\n",
    "      "
   ]
  },
  {
   "cell_type": "markdown",
   "id": "d0d7144a",
   "metadata": {},
   "source": [
    "\n",
    "<div align=\"right\" dir=\"auto\">\n",
    "   \n",
    "##  اتصال به کلاستر اسپارک و هدوپ \n",
    "\n",
    "    در این قسمت از تمرین باید به عنوان درایور یک سسشن  به کلاستر اسپارک بسازیم.\n",
    " </div>\n",
    "  \n",
    "    "
   ]
  },
  {
   "cell_type": "code",
   "execution_count": 5,
   "id": "3dba8f97",
   "metadata": {},
   "outputs": [],
   "source": [
    "import pyspark\n",
    "from pyspark import SparkContext \n",
    "from pyspark.sql import SparkSession,Row\n",
    "from pyspark.sql.functions import *\n",
    "import math\n",
    "import pandas , numpy\n",
    "import matplotlib\n",
    "import pprint\n",
    "    \n"
   ]
  },
  {
   "cell_type": "code",
   "execution_count": 6,
   "id": "f520af6d",
   "metadata": {},
   "outputs": [
    {
     "data": {
      "text/html": [
       "\n",
       "            <div>\n",
       "                <p><b>SparkSession - in-memory</b></p>\n",
       "                \n",
       "        <div>\n",
       "            <p><b>SparkContext</b></p>\n",
       "\n",
       "            <p><a href=\"http://10.20.30.100:4040\">Spark UI</a></p>\n",
       "\n",
       "            <dl>\n",
       "              <dt>Version</dt>\n",
       "                <dd><code>v3.0.0</code></dd>\n",
       "              <dt>Master</dt>\n",
       "                <dd><code>spark://spark-master:7077</code></dd>\n",
       "              <dt>AppName</dt>\n",
       "                <dd><code>homework3</code></dd>\n",
       "            </dl>\n",
       "        </div>\n",
       "        \n",
       "            </div>\n",
       "        "
      ],
      "text/plain": [
       "<pyspark.sql.session.SparkSession at 0x7f5582fa2550>"
      ]
     },
     "execution_count": 6,
     "metadata": {},
     "output_type": "execute_result"
    }
   ],
   "source": [
    "spark = SparkSession.builder.appName(\"homework3\").master(\"spark://spark-master:7077\").config(\"fs.defaultFS\",\"hdfs://namenode:9000/\").getOrCreate()\n",
    "spark"
   ]
  },
  {
   "cell_type": "markdown",
   "id": "ff286ba4",
   "metadata": {},
   "source": [
    "\n",
    "<div align=\"right\" dir=\"auto\">\n",
    "   \n",
    "#  خواندن داده \n",
    "\n",
    "    :در اسپارک ما ساختارهای مختلفی برای کار با داده و پخش شدن آن‌ها در شبکه داریم که به ۳ دسته تقسیم بندی میشوند \n",
    "+ RDD\n",
    "+ Dataset\n",
    "+ DataFrame\n",
    "    \n",
    "    \n",
    "     برای مطالعه بیشتر به لینک زیر مراجعه کنید:\n",
    "[rdd-vs-dataframe-vs-dataset](https://phoenixnap.com/kb/rdd-vs-dataframe-vs-dataset)\n",
    "\n",
    "    ما در درس با ساختار RDD آشنا شدیم حال در این تمرین میخواهیم با ساختار Dataframe آشنا شویم و به کمک آن دیتا را از روی HDFS بخوانیم و روی آن فایل‌ها پردازش انجام دهیم\n",
    " \n",
    " </div>\n",
    "  \n",
    "    "
   ]
  },
  {
   "cell_type": "markdown",
   "id": "98ab55b4",
   "metadata": {},
   "source": [
    "- [Spark Cluster Master UI](http://localhost:8080/)\n",
    "- [Application master UI (driver UI)](http://localhost:4040)\n",
    "- [Web Hdfs](http://localhost:9870/explorer.html#/)\n"
   ]
  },
  {
   "cell_type": "markdown",
   "id": "8f4735fe",
   "metadata": {},
   "source": [
    "<div align=\"right\" dir=\"auto\">\n",
    " .در این قسمت دیتاست را لود می‌کنیم \n",
    "</div>"
   ]
  },
  {
   "cell_type": "code",
   "execution_count": 7,
   "id": "9b76ff82",
   "metadata": {
    "collapsed": false,
    "jupyter": {
     "outputs_hidden": false
    }
   },
   "outputs": [
    {
     "name": "stderr",
     "output_type": "stream",
     "text": [
      "                                                                                \r"
     ]
    }
   ],
   "source": [
    "War = spark.read.json(f\"/homework3/dataset/War.json\")\n",
    "Weapon = spark.read.json(\"/homework3/dataset/Weapon.json\")"
   ]
  },
  {
   "cell_type": "markdown",
   "id": "8adcbec1",
   "metadata": {},
   "source": [
    "<div align=\"right\" dir=\"auto\">\n",
    "برای اینکه بتوانیم روی دیتای لود شده به وسیله تابع  spark.sql\n",
    "    کوئری‌های SQL بزنیم\n",
    "    باید دو دیتاست لود شده را به عنوان table\n",
    "    به spark \n",
    "    معرفی کنیم\n",
    "</div>"
   ]
  },
  {
   "cell_type": "code",
   "execution_count": 8,
   "id": "bcd0b216",
   "metadata": {},
   "outputs": [],
   "source": [
    "War.registerTempTable(\"War\")\n",
    "Weapon.registerTempTable(\"Weapon\")\n"
   ]
  },
  {
   "cell_type": "markdown",
   "id": "05553966",
   "metadata": {},
   "source": [
    "<div align=\"right\" dir=\"auto\">\n",
    "یک مثال ...\n",
    "</div>"
   ]
  },
  {
   "cell_type": "code",
   "execution_count": 9,
   "id": "e5b71a2f",
   "metadata": {},
   "outputs": [
    {
     "name": "stderr",
     "output_type": "stream",
     "text": [
      "[Stage 2:=========================>                                 (3 + 4) / 7]\r"
     ]
    },
    {
     "name": "stdout",
     "output_type": "stream",
     "text": [
      "+-----------+-------------+--------+-------------+--------------+------------+\n",
      "|  DateOfWar|DurationOfWar|Location|MinorityStart|TargetMinority|      Weapon|\n",
      "+-----------+-------------+--------+-------------+--------------+------------+\n",
      "|73298-04-22|       1005.0|BIEN HOA|          Elf|           Orc|Mirkwood Bow|\n",
      "+-----------+-------------+--------+-------------+--------------+------------+\n",
      "\n"
     ]
    },
    {
     "name": "stderr",
     "output_type": "stream",
     "text": [
      "                                                                                \r"
     ]
    }
   ],
   "source": [
    "spark.sql(\"SELECT * FROM War where DurationOfWar=1005.0 limit 1;\").show()"
   ]
  },
  {
   "cell_type": "code",
   "execution_count": null,
   "id": "b08b91ab",
   "metadata": {},
   "outputs": [],
   "source": [
    "War.select(\"*\").filter(col(\"DurationOfWar\")==1005.0).limit(1).show()"
   ]
  },
  {
   "cell_type": "markdown",
   "id": "639582fc",
   "metadata": {},
   "source": [
    "<div align=\"right\" dir=\"auto\">\n",
    " ده رکورد آخر را نمایش دهید\n",
    "</div>"
   ]
  },
  {
   "cell_type": "code",
   "execution_count": 10,
   "id": "85bba090",
   "metadata": {},
   "outputs": [
    {
     "name": "stderr",
     "output_type": "stream",
     "text": [
      "                                                                                \r"
     ]
    },
    {
     "name": "stdout",
     "output_type": "stream",
     "text": [
      "+-----------+-------------+-------------+-------------+--------------+---------+\n",
      "|  DateOfWar|DurationOfWar|     Location|MinorityStart|TargetMinority|   Weapon|\n",
      "+-----------+-------------+-------------+-------------+--------------+---------+\n",
      "|73365-06-30|       1800.0|NAKHON PHANOM|          Elf|        Nazgul|     null|\n",
      "|73365-06-30|        800.0|NAKHON PHANOM|          Elf|        Nazgul|     null|\n",
      "|73365-06-30|        800.0|      U TAPAO|          Elf|        Nazgul|     null|\n",
      "|73365-06-30|        800.0|NAKHON PHANOM|          Elf|        Nazgul|     null|\n",
      "|73365-06-30|       1800.0|NAKHON PHANOM|          Elf|        Nazgul|     null|\n",
      "|73365-06-30|        800.0|     UDORN AB|          Elf|        Nazgul|     null|\n",
      "|73365-06-30|        800.0|        KORAT|          Elf|        Nazgul|Glamdring|\n",
      "|73365-06-30|        800.0|     UDORN AB|          Elf|        Nazgul|  Andúril|\n",
      "|73365-06-30|        800.0|NAKHON PHANOM|          Elf|        Nazgul|     null|\n",
      "|73365-06-30|        800.0|NAKHON PHANOM|          Elf|        Nazgul|     null|\n",
      "+-----------+-------------+-------------+-------------+--------------+---------+\n",
      "\n",
      "+--------------------+------------+\n",
      "|         Description|      Weapon|\n",
      "+--------------------+------------+\n",
      "|Narya has the pow...|       Narya|\n",
      "| Vilya was the st...|       Vilya|\n",
      "|\"Reforged from th...|     Andúril|\n",
      "|\"A sword in The H...|     Orcrist|\n",
      "| Legolas wielded ...|Mirkwood Bow|\n",
      "|Galadriel’s ring ...|       Nenya|\n",
      "|\"A sword in The H...|   Glamdring|\n",
      "|A sword wielded b...|    Aranrúth|\n",
      "|The Ring was a si...| Master Ring|\n",
      "|A knife in The Ho...|       Sting|\n",
      "+--------------------+------------+\n",
      "\n"
     ]
    }
   ],
   "source": [
    "spark.sql(\"SELECT * FROM War ORDER BY DateOfWar DESC limit 10;\").show()\n",
    "spark.sql(\"SELECT * FROM Weapon limit 10;\").show()"
   ]
  },
  {
   "cell_type": "markdown",
   "id": "079f4dac",
   "metadata": {},
   "source": [
    "<div align=\"right\" dir=\"auto\">\n",
    "اسکیما یا ساختار دیتاست ها را نمایش دهید\n",
    "\n",
    "</div>"
   ]
  },
  {
   "cell_type": "code",
   "execution_count": 11,
   "id": "b11b7765",
   "metadata": {},
   "outputs": [
    {
     "name": "stdout",
     "output_type": "stream",
     "text": [
      "root\n",
      " |-- DateOfWar: string (nullable = true)\n",
      " |-- DurationOfWar: double (nullable = true)\n",
      " |-- Location: string (nullable = true)\n",
      " |-- MinorityStart: string (nullable = true)\n",
      " |-- TargetMinority: string (nullable = true)\n",
      " |-- Weapon: string (nullable = true)\n",
      "\n",
      "root\n",
      " |-- Description: string (nullable = true)\n",
      " |-- Weapon: string (nullable = true)\n",
      "\n"
     ]
    }
   ],
   "source": [
    "War.printSchema()\n",
    "Weapon.printSchema()"
   ]
  },
  {
   "cell_type": "markdown",
   "id": "e088a74b",
   "metadata": {},
   "source": [
    "### Expected\n",
    "![image](expected_answers/1.png)"
   ]
  },
  {
   "cell_type": "markdown",
   "id": "494eda37",
   "metadata": {},
   "source": [
    "\n",
    "<div align=\"right\" dir=\"auto\">\n",
    "   \n",
    "#  اسپارک SQL \n",
    "\n",
    "    مهمترین قابلیت اسپارک این است که می‌تواند با خواندن فایل‌ها به صورت توزیع شده روی آن‌ها پردازش انجام دهد و این پردازش را برنامه ‌نویس میتواند با استفاده از دستورات SQL اعمال کند\n",
    "    در این بخش از شما انتظار می‌رود که به وسیله spark SQL  به اسپارک کوئری  بزنید . \n",
    "    \n",
    "    \n",
    " </div>\n",
    "\n",
    "[pyspark.sql.functions.col](https://spark.apache.org/docs/latest/api/python/reference/pyspark.sql/api/pyspark.sql.functions.col.html)\n",
    "\n",
    "[pyspark.sql.DataFrame.count](https://spark.apache.org/docs/latest/api/python/reference/pyspark.sql/api/pyspark.sql.DataFrame.count.html)\n",
    "\n",
    "[pyspark.sql.DataFrame.filter](https://spark.apache.org/docs/latest/api/python/reference/pyspark.sql/api/pyspark.sql.DataFrame.filter.html)\n",
    "\n",
    "[pyspark.sql.DataFrame.groupBy](https://spark.apache.org/docs/3.1.1/api/python/reference/api/pyspark.sql.DataFrame.groupBy.html)"
   ]
  },
  {
   "cell_type": "markdown",
   "id": "8235fee9",
   "metadata": {},
   "source": [
    "<div align=\"right\" dir=\"auto\">\n",
    " چه تعداد نبرد در کل این دوران‌ها انجام شده است؟\n",
    "</div>"
   ]
  },
  {
   "cell_type": "code",
   "execution_count": 12,
   "id": "507d49da",
   "metadata": {
    "collapsed": false,
    "jupyter": {
     "outputs_hidden": false
    }
   },
   "outputs": [
    {
     "name": "stderr",
     "output_type": "stream",
     "text": [
      "[Stage 7:==================================================>        (6 + 1) / 7]\r"
     ]
    },
    {
     "name": "stdout",
     "output_type": "stream",
     "text": [
      "Number of all Wars is 4400775\n"
     ]
    },
    {
     "name": "stderr",
     "output_type": "stream",
     "text": [
      "                                                                                \r"
     ]
    }
   ],
   "source": [
    "print(f'Number of all Wars is {War.count()}')"
   ]
  },
  {
   "cell_type": "markdown",
   "id": "42156fcd",
   "metadata": {},
   "source": [
    "### Expected\n",
    "![image](expected_answers/2.png)"
   ]
  },
  {
   "cell_type": "markdown",
   "id": "010ba71b",
   "metadata": {},
   "source": [
    "<div align=\"right\" dir=\"auto\">\n",
    "هر نژاد در چه تعدادی نبرد مشارکت داشته اند  به صورت مرتب شده نمایش دهبد؟\n",
    "</div>"
   ]
  },
  {
   "cell_type": "code",
   "execution_count": 13,
   "id": "1c8e4feb",
   "metadata": {},
   "outputs": [
    {
     "name": "stderr",
     "output_type": "stream",
     "text": [
      "                                                                                \r"
     ]
    },
    {
     "name": "stdout",
     "output_type": "stream",
     "text": [
      "+-------------+-------+\n",
      "|MinorityStart|  count|\n",
      "+-------------+-------+\n",
      "|          Elf|3708997|\n",
      "|          Orc| 622013|\n",
      "|       Goblin|  32777|\n",
      "|        Dwarf|  24469|\n",
      "|       Hobbit|  12519|\n",
      "+-------------+-------+\n",
      "\n"
     ]
    }
   ],
   "source": [
    "war_numbers = spark.sql('select   MinorityStart , count(MinorityStart) as count from war GROUP BY MinorityStart ORDER BY count(MinorityStart) DESC;')\n",
    "war_numbers.show()"
   ]
  },
  {
   "cell_type": "markdown",
   "id": "5aadbcb4",
   "metadata": {},
   "source": [
    "### Expected\n",
    "![image](expected_answers/3.png)"
   ]
  },
  {
   "cell_type": "markdown",
   "id": "f0f55406",
   "metadata": {},
   "source": [
    "\n",
    "<div align=\"right\" dir=\"auto\">\n",
    "   \n",
    "#  اسپارک toPandas \n",
    "\n",
    "    یکی ار قابلیت‌های اسپارک این است که می‌توان dataframe های آن را به \n",
    "    dataframe های pandas تبدیل کند و از توابع آن از جمله\n",
    "    توابع plot  آن برای رسم نمودار استفاده کرد.\n",
    "    در این قسمت از شما انتظار می‌رود نمودار تعداد جنگ‌ها بر اساس هر گونه را رسم کنید.\n",
    "    \n",
    " </div>\n",
    "  \n",
    "    \n",
    "\n",
    "  \n",
    "[pyspark.sql.DataFrame.toPandas](https://spark.apache.org/docs/latest/api/python/reference/pyspark.sql/api/pyspark.sql.DataFrame.toPandas.html)\n",
    "\n",
    "[pyspark.pandas.DataFrame.plot](https://spark.apache.org/docs/3.2.1/api/python/reference/pyspark.pandas/api/pyspark.pandas.DataFrame.plot.html)\n"
   ]
  },
  {
   "cell_type": "code",
   "execution_count": 14,
   "id": "60d03bc9",
   "metadata": {},
   "outputs": [
    {
     "name": "stderr",
     "output_type": "stream",
     "text": [
      "                                                                                \r"
     ]
    },
    {
     "data": {
      "text/plain": [
       "Text(0, 0.5, 'Number of war')"
      ]
     },
     "execution_count": 14,
     "metadata": {},
     "output_type": "execute_result"
    },
    {
     "data": {
      "image/png": "[encoded data removed]",
      "text/plain": [
       "<Figure size 640x480 with 1 Axes>"
      ]
     },
     "metadata": {},
     "output_type": "display_data"
    }
   ],
   "source": [
    "pandas_df = war_numbers.toPandas()\n",
    "ax = pandas_df.plot(kind='bar',x='MinorityStart', y='count', log=True, title = \"Number of War by Minority\")\n",
    "ax.set_xlabel(\"Minority\")\n",
    "ax.set_ylabel(\"Number of war\")"
   ]
  },
  {
   "cell_type": "markdown",
   "id": "04865fe9",
   "metadata": {},
   "source": [
    "### Expected\n",
    "![image](expected_answers/plotlib.png)"
   ]
  },
  {
   "cell_type": "markdown",
   "id": "f8089bcc",
   "metadata": {},
   "source": [
    "<div align=\"right\" dir=\"auto\">\n",
    "چه تعداد نبردهایی بر اساس زمان انجام شده بر اساس زمان مرتب کنید\n",
    "</div>"
   ]
  },
  {
   "cell_type": "code",
   "execution_count": 15,
   "id": "f8007ce2",
   "metadata": {},
   "outputs": [
    {
     "name": "stderr",
     "output_type": "stream",
     "text": [
      "[Stage 17:===============================================>      (176 + 7) / 200]\r"
     ]
    },
    {
     "name": "stdout",
     "output_type": "stream",
     "text": [
      "+-----------+-----+\n",
      "|  DateOfWar|count|\n",
      "+-----------+-----+\n",
      "|73295-10-01|  447|\n",
      "|73295-10-02|  652|\n",
      "|73295-10-03|  608|\n",
      "|73295-10-04|  532|\n",
      "|73295-10-05|  769|\n",
      "|73295-10-06|  738|\n",
      "|73295-10-07|  655|\n",
      "|73295-10-08|  764|\n",
      "|73295-10-09|  746|\n",
      "|73295-10-10|  848|\n",
      "|73295-10-11|  503|\n",
      "|73295-10-12|  511|\n",
      "|73295-10-13|  395|\n",
      "|73295-10-14|  469|\n",
      "|73295-10-15|  492|\n",
      "|73295-10-16|  533|\n",
      "|73295-10-17|  381|\n",
      "|73295-10-18|  529|\n",
      "|73295-10-19|  649|\n",
      "|73295-10-20|  624|\n",
      "+-----------+-----+\n",
      "only showing top 20 rows\n",
      "\n"
     ]
    },
    {
     "name": "stderr",
     "output_type": "stream",
     "text": [
      "                                                                                \r"
     ]
    }
   ],
   "source": [
    "spark.sql(\"SELECT DateOfWar, count(DateOfWar) as count FROM War group by DateOfWar ORDER BY DateOfWar, count ASC;\").show()"
   ]
  },
  {
   "cell_type": "markdown",
   "id": "b05ecae0",
   "metadata": {},
   "source": [
    "### Expected\n",
    "![image](expected_answers/date_groupBy.png)"
   ]
  },
  {
   "cell_type": "markdown",
   "id": "c1768e0c",
   "metadata": {},
   "source": [
    "<div align=\"right\" dir=\"auto\">\n",
    "نژاد \"اورک\" توسط چه نژادی مورد حمله قرار گرفته است ؟\n",
    "</div>"
   ]
  },
  {
   "cell_type": "code",
   "execution_count": 16,
   "id": "fdec59f8",
   "metadata": {},
   "outputs": [
    {
     "name": "stderr",
     "output_type": "stream",
     "text": [
      "                                                                                \r"
     ]
    },
    {
     "name": "stdout",
     "output_type": "stream",
     "text": [
      "+-------------+\n",
      "|MinorityStart|\n",
      "+-------------+\n",
      "|          Elf|\n",
      "|          Orc|\n",
      "|       Hobbit|\n",
      "|        Dwarf|\n",
      "+-------------+\n",
      "\n"
     ]
    }
   ],
   "source": [
    "War.select(\"MinorityStart\").filter(col(\"TargetMinority\")=='Orc').distinct().show()"
   ]
  },
  {
   "cell_type": "markdown",
   "id": "54f20a9a",
   "metadata": {},
   "source": [
    "### Expected\n",
    "![image](expected_answers/orc_target.png)"
   ]
  },
  {
   "cell_type": "markdown",
   "id": "a91bb7fc",
   "metadata": {},
   "source": [
    "\n",
    "<div align=\"right\" dir=\"auto\">\n",
    "   \n",
    "#  اسپارک Shuffle \n",
    "\n",
    "    Spark SQL shuffle مکانیزمی است برای توزیع مجدد یا پارتیشن بندی مجدد داده ها به طوری که داده ها به طور متفاوت در پارتیشن ها گروه بندی می شوند، بر اساس اندازه داده شما ممکن است نیاز باشد تعداد پارتیشن های RDD/DataFrame را با استفاده از اسپارک کاهش یا افزایش دهید.\n",
    "    برای مثال وقتی روی دو dataframe مختلف که روی شبکه توزیع شده اند\n",
    "    دستور join را میزنیم یک عملیات \n",
    "    shuffling انجام میشود\n",
    "    در این قسمت از شما انتظار می‌رود کوئری جوین زیر را نوشته و اجرا کنید همچنین به  صفحه \n",
    "    application master ui\n",
    "    مراجعه کنید و نحوه shuffleing را گزارش کنید . \n",
    "     و همچنین توضیح دهید DAG scheduler  در اسپارک چیست ؟\n",
    " </div>\n",
    "  \n",
    "    \n",
    "\n",
    "  \n",
    "[shuffling in standalone cluster](https://medium.com/@rachit1arora/apache-spark-shuffle-service-there-are-more-than-one-options-c1a8e098230e)\n",
    "\n"
   ]
  },
  {
   "cell_type": "markdown",
   "id": "c3f6604d",
   "metadata": {},
   "source": [
    "<div align=\"right\" dir=\"auto\">\n",
    "   سرویس Shuffle یک پروکسی است که اجرا کنندگان Spark از طریق آن بلوک ها را واکشی می کنند. بنابراین، چرخه حیات آن مستقل از چرخه حیات اجرا کننده است. آپاچی اسپارک چارچوب قابل توسعه ای را برای ارائه اجرای متفاوت سرویس Shuffle ارائه می دهد. سرویس Shuffle می تواند بر روی یک گره Spark Worker یا حتی خارج از Spark Worker اجرا شود. Spark Executor می تواند در آن اجرا شود. در طول فرآیند ثبت نام، مجری سرویس را در مورد مکانی روی دیسک که در آن فایل های shuffle را ذخیره می کند، مطلع می کند. سرویس Shuffle فایل‌های Shuffle را تماشا می‌کند و در صورت درخواست دیگر اجرا کنندگان، فایل‌های shuffle را برمی‌گرداند.\n",
    "</div>"
   ]
  },
  {
   "cell_type": "markdown",
   "id": "cee53973",
   "metadata": {},
   "source": [
    "![images](pictures/1.png)"
   ]
  },
  {
   "cell_type": "markdown",
   "id": "c7f1f53d",
   "metadata": {},
   "source": [
    "![images](pictures/2.png)"
   ]
  },
  {
   "attachments": {
    "1d95288c-472f-4850-bf10-6e36627f564b.png": {
     "image/png": "[encoded data removed]"
    }
   },
   "cell_type": "markdown",
   "id": "b831ed90",
   "metadata": {},
   "source": [
    "![3.png](attachment:1d95288c-472f-4850-bf10-6e36627f564b.png)![images](pictures/3.png)"
   ]
  },
  {
   "cell_type": "markdown",
   "id": "eb980c4d",
   "metadata": {},
   "source": [
    "![images](pictures/4.png)"
   ]
  },
  {
   "cell_type": "markdown",
   "id": "042ad7e9",
   "metadata": {},
   "source": [
    "<div align=\"right\" dir=\"auto\">\n",
    "    \n",
    "    1. هر وقت یه Action روی RDD بزنیم (مثلا Collect)، اسپارک یک DAG می‌سازه و به DAG Scheduler یا زمانبند DAG ارسال می‌کنه. DAG Scheduler میاد و Operator که داریم رو به چند تا Stage از Task (یا مراحلی از وظایف) تقسیم بندی می کنه. یه Stage شامل Task هایی هستش که روی پارتیشن داده های ورودی اعمال میشن تشکیل شده. DAG Scheduler میادش عملگرهای مدنظرمون برای اجرا روی دیتا رو با هم پایپ لاین می کنه. بعنوان مثال خیلی از Map هایی که میخوایم روی دیتامون بزنیم می تونن تو یه دونه Single Stage توسط DAG Scheduler زمان بندی و برنامه ریزی بشن. در پایان نتیجه نهایی یه DAG Scheduler مجموعه ای از Stage ها هست.\n",
    "\n",
    " </div>"
   ]
  },
  {
   "cell_type": "markdown",
   "id": "e6218693",
   "metadata": {},
   "source": [
    "<div align=\"right\" dir=\"auto\">\n",
    "    \n",
    "    بیشترین سلاحی که در این جنگ ها استفاده شده کدام سلاح  بوده است؟.\n",
    "    جزییات این سلاح را از فایل مشخصات سلاح (Weapon) می‌توانید بدست آورید.\n",
    "    فایل مربوط به سلاح ها را بازخوانی کرده و برای نمایش بین دو فایل از join استفاده شود.\n",
    "\n",
    "</div>"
   ]
  },
  {
   "cell_type": "code",
   "execution_count": 17,
   "id": "83e7845d",
   "metadata": {},
   "outputs": [
    {
     "name": "stderr",
     "output_type": "stream",
     "text": [
      "[Stage 30:======================================>               (142 + 8) / 200]\r"
     ]
    },
    {
     "name": "stdout",
     "output_type": "stream",
     "text": [
      "+------------+------+--------------------+\n",
      "|      Weapon| count|         Description|\n",
      "+------------+------+--------------------+\n",
      "|     Andúril|909362|\"Reforged from th...|\n",
      "|       Narya|451385|Narya has the pow...|\n",
      "|       Vilya|372975| Vilya was the st...|\n",
      "|     Orcrist|358498|\"A sword in The H...|\n",
      "|Mirkwood Bow|267457| Legolas wielded ...|\n",
      "|       Nenya|242231|Galadriel’s ring ...|\n",
      "|   Glamdring|165773|\"A sword in The H...|\n",
      "|    Aranrúth|146543|A sword wielded b...|\n",
      "| Master Ring|144601|The Ring was a si...|\n",
      "|       Sting|140410|A knife in The Ho...|\n",
      "|       Grond| 99100|\"The name of the ...|\n",
      "|Dragon-helm | 82219|A helmet owned an...|\n",
      "|      Aeglos| 76525|A spear wielded b...|\n",
      "|    Herugrim| 75058|A sword that belo...|\n",
      "|   Red Arrow| 73843|\"A black-feathere...|\n",
      "|   Anglachel| 71716|A sword forged by...|\n",
      "|    Gúthwinë| 58691|A sword wielded b...|\n",
      "|Belthronding| 52865|A bow wielded by ...|\n",
      "|      Ringil| 50843|A sword wielded b...|\n",
      "|  Dramborleg| 41655|An axe belonging ...|\n",
      "+------------+------+--------------------+\n",
      "\n"
     ]
    },
    {
     "name": "stderr",
     "output_type": "stream",
     "text": [
      "                                                                                \r"
     ]
    }
   ],
   "source": [
    "War.groupBy('Weapon').count().join(Weapon,on='Weapon').orderBy(desc('count')).show()"
   ]
  },
  {
   "cell_type": "markdown",
   "id": "802ec331",
   "metadata": {},
   "source": [
    "### Expected\n",
    "![image](expected_answers/most_used_weapons.png)"
   ]
  },
  {
   "cell_type": "markdown",
   "id": "757a0dff",
   "metadata": {},
   "source": [
    "     # ToDo\n",
    "     # Refere to Application master UI"
   ]
  },
  {
   "cell_type": "markdown",
   "id": "bda68c2f",
   "metadata": {},
   "source": [
    "\n",
    "<div align=\"right\" dir=\"auto\">\n",
    "   \n",
    "# تابع تعریف شده توسط کاربر(UDF)\n",
    "\n",
    "    یکی از مزایای اسپارک این است که نه تنها برای ما یک زبان SQL فراهم کرده که روی چندین سرور به صورت همزمان پردازش را انجام دهد بلکه \n",
    "    میتوان به زبان‌های مختلف توابعی تعریف کرد که روی  همه executor ها اجرا شود\n",
    "    در این بخش از شما انتظار می‌رود که با نوشتن یک UDF به زبان پایتونی \n",
    "    توضیحات هر اسلحه را به 3 کلمه اول آن کوتاه کنید و بقیه کلمات را حذف کنید و سوتونی به نام short_description را به داده های \n",
    "    Weapon اضافه کنید\n",
    "    \n",
    "    \n",
    " </div>\n",
    " \n",
    "[pyspark.sql.functions.udf](https://spark.apache.org/docs/3.1.3/api/python/reference/api/pyspark.sql.functions.udf.html)\n",
    "\n",
    "[pyspark.sql.DataFrame.withColumn](https://spark.apache.org/docs/3.1.3/api/python/reference/api/pyspark.sql.DataFrame.withColumn.html)\n",
    "\n",
    "    \n",
    "\n"
   ]
  },
  {
   "cell_type": "code",
   "execution_count": 18,
   "id": "ca4f1820",
   "metadata": {},
   "outputs": [
    {
     "name": "stderr",
     "output_type": "stream",
     "text": [
      "[Stage 31:>                                                         (0 + 1) / 1]\r"
     ]
    },
    {
     "name": "stdout",
     "output_type": "stream",
     "text": [
      "+--------------------+------------+--------------------+\n",
      "|         Description|      Weapon|   short_description|\n",
      "+--------------------+------------+--------------------+\n",
      "|Narya has the pow...|       Narya|      Narya has the |\n",
      "| Vilya was the st...|       Vilya|          Vilya was |\n",
      "|\"Reforged from th...|     Andúril| \"Reforged from the |\n",
      "|\"A sword in The H...|     Orcrist|        \"A sword in |\n",
      "| Legolas wielded ...|Mirkwood Bow|    Legolas wielded |\n",
      "|Galadriel’s ring ...|       Nenya|Galadriel’s ring ...|\n",
      "|\"A sword in The H...|   Glamdring|        \"A sword in |\n",
      "|A sword wielded b...|    Aranrúth|    A sword wielded |\n",
      "|The Ring was a si...| Master Ring|       The Ring was |\n",
      "|A knife in The Ho...|       Sting|         A knife in |\n",
      "|\"The name of the ...|       Grond|       \"The name of |\n",
      "|A helmet owned an...|Dragon-helm |     A helmet owned |\n",
      "|A spear wielded b...|      Aeglos|    A spear wielded |\n",
      "|A sword that belo...|    Herugrim|       A sword that |\n",
      "|\"A black-feathere...|   Red Arrow|\"A black-feathere...|\n",
      "|A sword forged by...|   Anglachel|     A sword forged |\n",
      "|A sword wielded b...|    Gúthwinë|    A sword wielded |\n",
      "|A bow wielded by ...|Belthronding|      A bow wielded |\n",
      "|A sword wielded b...|      Ringil|    A sword wielded |\n",
      "|An axe belonging ...|  Dramborleg|   An axe belonging |\n",
      "+--------------------+------------+--------------------+\n",
      "\n"
     ]
    },
    {
     "name": "stderr",
     "output_type": "stream",
     "text": [
      "                                                                                \r"
     ]
    }
   ],
   "source": [
    "\n",
    "@udf \n",
    "def substring(string):\n",
    "    result = \"\"\n",
    "    split = string.split(\" \")\n",
    "    print(split)\n",
    "    for i in range(0,3):\n",
    "        result += split[i] + \" \"\n",
    "    return result\n",
    "\n",
    "\n",
    "Weapon.withColumn(\"short_description\", substring(Weapon.Description)).show()"
   ]
  },
  {
   "cell_type": "markdown",
   "id": "637ee68e",
   "metadata": {},
   "source": [
    "### Expected\n",
    "![image](expected_answers/shortener_udf.png)"
   ]
  },
  {
   "cell_type": "markdown",
   "id": "a3f53982",
   "metadata": {},
   "source": [
    "\n",
    "<div align=\"right\" dir=\"auto\">\n",
    "   \n",
    "# نوشتن داده و پارتیشنینگ\n",
    "    زمانی که میخواهیم داده های حجیم را به صورت فایل هایی ذخیره کنیم  نمیتوانیم همه داده را در یک فایل بزرگ ذخیره کنیم به چند دلیل :\n",
    "-  ذخیره سازی یک فایل بزرگ باعث ؛تنها نقطه شکست میشود؛ و با حذف آن کل داده از دست میرود\n",
    "- جستجو در این یک فایل بزرگ که مرتب شده نیست دشوار و عملی نیست\n",
    "- آپدیت کردن سخت تر میشود\n",
    "پس تا حدودی حل این میشکل از راه حل های زیر استفاده میکنیم\n",
    "# پارتیشنینگ: \n",
    "-     بر اساس یک فیلد داده هارا دسته بندی میکنیم و در دایرکتوری های مختلف میریزیم این کار را اسپارک برای ما انجام میدهد\n",
    "\n",
    "    \n",
    " </div>\n",
    "  \n",
    "    \n",
    "\n"
   ]
  },
  {
   "cell_type": "markdown",
   "id": "6f2b9851",
   "metadata": {},
   "source": [
    "<div align=\"right\" dir=\"rtl\">\n",
    "\n",
    "    در این بخش شما باید یک دیتاست کامل بسازید بدین شکل که دیتاست War و Weapon\n",
    "     را با یکدیگر جوین کنید سپس همه آن رکورد‌هایی که  در توضیحات اسلحه آنها کلمه sword \n",
    "    نیامده است را فیلتر کرده و برا اساس گونه شروع کننده جنگ (MinorityStart) پارتیشن کنید\n",
    "    و روی HDFS\n",
    "      در مسیر /homework3/<student_number>/output/war_without_sword بنویسید\n",
    "    و ۲۰ رکورد اول آن را نمایش دهید\n",
    "    توجه کنید فایل‌های خروجی باید از نوع JSON باشند\n",
    "    \n",
    "    \n",
    "</div>\n",
    "\n",
    "[pyspark.sql.DataFrameWriter.partitionBy](https://spark.apache.org/docs/latest/api/python/reference/pyspark.sql/api/pyspark.sql.DataFrameWriter.partitionBy.html)\n"
   ]
  },
  {
   "cell_type": "code",
   "execution_count": 21,
   "id": "57d9b122",
   "metadata": {},
   "outputs": [
    {
     "name": "stdout",
     "output_type": "stream",
     "text": [
      "+------------+-----------+-------------+-------------+-------------+--------------+--------------------+\n",
      "|      Weapon|  DateOfWar|DurationOfWar|     Location|MinorityStart|TargetMinority|         Description|\n",
      "+------------+-----------+-------------+-------------+-------------+--------------+--------------------+\n",
      "|       Narya|73299-07-11|        605.0|     BIEN HOA|          Elf|           Orc|Narya has the pow...|\n",
      "|       Vilya|73297-05-12|        710.0|      CHU LAI|          Elf|           Orc| Vilya was the st...|\n",
      "|       Narya|73299-05-07|        130.0|      TUY HOA|          Elf|        Goblin|Narya has the pow...|\n",
      "|       Vilya|73298-06-18|        111.0|   WESTPAC 65|          Elf|        Nazgul| Vilya was the st...|\n",
      "|       Vilya|73296-11-02|       1215.0|   WESTPAC 64|          Elf|        Nazgul| Vilya was the st...|\n",
      "|Dragon-helm |73296-07-10|       2130.0|       DANANG|          Elf|        Goblin|A helmet owned an...|\n",
      "|  Dramborleg|73298-01-23|       2150.0|NAKHON PHANOM|          Elf|        Goblin|An axe belonging ...|\n",
      "|       Vilya|73297-05-17|        917.0|      CHU LAI|          Elf|           Orc| Vilya was the st...|\n",
      "|       Vilya|73297-05-19|       1036.0|   WESTPAC 19|          Elf|        Nazgul| Vilya was the st...|\n",
      "|       Vilya|73297-07-06|       1815.0|   WESTPAC 64|          Elf|        Nazgul| Vilya was the st...|\n",
      "| Master Ring|73298-12-29|        750.0|      CHU LAI|          Elf|           Orc|The Ring was a si...|\n",
      "|       Narya|73296-09-24|        813.0|     BIEN HOA|          Elf|           Orc|Narya has the pow...|\n",
      "|Dragon-helm |73298-06-07|       1239.0|    PHAN RANG|          Elf|        Goblin|A helmet owned an...|\n",
      "|       Narya|73299-07-15|        330.0|     BIEN HOA|          Elf|           Orc|Narya has the pow...|\n",
      "|Dragon-helm |73298-11-05|       2105.0|    PHAN RANG|          Elf|        Goblin|A helmet owned an...|\n",
      "| Master Ring|73298-05-16|       1530.0|      CHU LAI|          Elf|        Nazgul|The Ring was a si...|\n",
      "|       Narya|73298-09-24|       1935.0|         VVPU|          Elf|           Orc|Narya has the pow...|\n",
      "|       Narya|73299-04-01|       1825.0|         VVPU|          Elf|           Orc|Narya has the pow...|\n",
      "|       Narya|73299-04-22|        430.0|     BIEN HOA|          Elf|           Orc|Narya has the pow...|\n",
      "|       Narya|73297-02-22|       1020.0|      TUY HOA|          Elf|           Orc|Narya has the pow...|\n",
      "+------------+-----------+-------------+-------------+-------------+--------------+--------------------+\n",
      "\n"
     ]
    },
    {
     "name": "stderr",
     "output_type": "stream",
     "text": [
      "                                                                                \r"
     ]
    }
   ],
   "source": [
    "result = War.join(Weapon,on='Weapon').filter(~Weapon.Description.contains(\"sword\"))\n",
    "result.limit(20).show()\n",
    "\n",
    "result.write.partitionBy(\"MinorityStart\").json(\"/homework3/9831118_9831090/output/war_without_sword/\")"
   ]
  },
  {
   "cell_type": "markdown",
   "id": "117157d6",
   "metadata": {},
   "source": [
    "### Expected\n",
    "![war without sword](expected_answers/war_without_sword.png)\n",
    "\n",
    "\n"
   ]
  },
  {
   "cell_type": "markdown",
   "id": "b42e0271",
   "metadata": {},
   "source": [
    "<div align=\"right\" dir=\"rtl\">\n",
    "    \n",
    "  ### گزارش HDFS\n",
    "    با مراجعه به HDFS UI\n",
    "    خروجی پارتیشن شده مسیر بالا را مشاهده میکنید\n",
    "     -تعداد دایرکتوری‌های ایجاد شده چندتاست و دلیل آن چیست؟ \n",
    "    -در هر دایرکتوری ایجاد شده چند فایل JSON میبینید و دلیل تعدد این فایل‌ها چیست؟\n",
    "    - چگونه میتوان از اسپارک خواست تا از تعدد این فایل‌ها جلوگیری کند و یک فایل در این مسیر‌ها بریزد؟\n",
    "    - coalesce و repartition  در اسپارک چیستند و کاربر اصلی آنها چیست؟\n",
    "</div>\n",
    "\n"
   ]
  },
  {
   "cell_type": "markdown",
   "id": "45c4f1f6",
   "metadata": {},
   "source": [
    "<div align=”right dir=\"auto\">\n",
    "    1-\n",
    "تعداد دایرکتوری ها به تعداد minority start یعنی 5 تا است . خود ما در قسمتpartition by  همچین انتخابی را انجام داده¬ایم.\n",
    "</div>"
   ]
  },
  {
   "cell_type": "markdown",
   "id": "9f9e0fe7",
   "metadata": {},
   "source": [
    "![image](pictures/5.png)"
   ]
  },
  {
   "cell_type": "markdown",
   "id": "f390c845",
   "metadata": {},
   "source": [
    "<div align=”right dir=\"auto\">\n",
    "    2-\n",
    "    این که در هر دایرکتوری چند فایل json وجود دارد، متفاوت است. برای مثال در دایرکتوری Dwarf 5 فایل وجود دارد، در Elf 7 تا و... که بسته به سایز ما دارد.\n",
    "    علت این اتفاق partitioning بوده که در صورت بروز مشکل و ارور، اطلاعات از بین نرود\n",
    "\n",
    "</div>"
   ]
  },
  {
   "cell_type": "markdown",
   "id": "c806b7a6",
   "metadata": {},
   "source": [
    "![image](pictures/6.png)"
   ]
  },
  {
   "cell_type": "markdown",
   "id": "60582ba3",
   "metadata": {},
   "source": [
    "<div align=”right dir=\"auto\">\n",
    "    3-\n",
    "    میتوان از coalesce استفاده کرد تا یک فایل ایجاد کند .\n",
    "</div>"
   ]
  },
  {
   "cell_type": "markdown",
   "id": "40ab8faa",
   "metadata": {},
   "source": [
    "\n",
    "<div align=”right dir=\"auto\">\n",
    "\n",
    "    4-\n",
    "Repartition می تواند برای افزایش یا کاهش تعداد پارتیشن ها در یک DataFrame استفاده شود. پارتیشن مجدد کل عملیات Shuffle است. کل داده ها از پارتیشن های موجود خارج می شوند و به طور مساوی در پارتیشن های تازه تشکیل شده توزیع می شوند. اگر مجموعه داده‌ای را که بارگذاری کرده‌ایم ، شامل داده‌های عظیم و تبدیل‌های زیادی است که به توزیع مساوی از اجراکنندگان نیاز دارند، باید از Repartition استفاده کنیم.\n",
    "Coalesce تعداد پارتیشن های یک DataFrame را کاهش می دهد. Coalesce از جابجایی کامل اجتناب می کند. به جای ایجاد پارتیشن‌های جدید، داده‌ها را با استفاده از Hash Partitioner (پیش‌فرض) به هم ریخته و در پارتیشن‌های موجود تنظیم می‌کند. یعنی فقط می تواند تعداد پارتیشن ها را کاهش دهد. هنگامی که همه تبدیل‌ها اعمال شدند، از Coalesce استفاده می¬کنیم تا همه داده‌ها را به جای تعداد زیادی فایل در فایل‌های کمتری (تعداد فایل = تعداد پارتیشن) ذخیره کند.\n",
    "\n",
    "</div>\n",
    "\n"
   ]
  },
  {
   "cell_type": "markdown",
   "id": "5f711587",
   "metadata": {},
   "source": [
    "<div align=\"right\" dir=\"rtl\">\n",
    "\n",
    "   ## coalesce\n",
    "    همان تسک بالا را انجام دهید  ولی  سعی کنید در هر دایرکتوری پارتیشن شده تنها یک فایل JSON ریخته شود.\n",
    "    نکته:  در مسیر جدید زیر آن را بنویسید.\n",
    "    /homework3/<student_number>/output/war_without_sword_v2/\n",
    "    \n",
    "    \n",
    "</div>\n",
    "\n",
    "[pyspark.sql.DataFrame.coalesce](https://spark.apache.org/docs/3.1.1/api/python/reference/api/pyspark.sql.DataFrame.coalesce.html)\n"
   ]
  },
  {
   "cell_type": "code",
   "execution_count": 22,
   "id": "9782d6d1",
   "metadata": {},
   "outputs": [
    {
     "name": "stderr",
     "output_type": "stream",
     "text": [
      "                                                                                \r"
     ]
    }
   ],
   "source": [
    "result.coalesce(1).write.partitionBy('MinorityStart').json(\"/homework3/9831118_9831090/output/war_without_sword_v2/\")"
   ]
  }
 ],
 "metadata": {
  "kernelspec": {
   "display_name": "Python 3 (ipykernel)",
   "language": "python",
   "name": "python3"
  },
  "language_info": {
   "codemirror_mode": {
    "name": "ipython",
    "version": 3
   },
   "file_extension": ".py",
   "mimetype": "text/x-python",
   "name": "python",
   "nbconvert_exporter": "python",
   "pygments_lexer": "ipython3",
   "version": "3.9.2"
  }
 },
 "nbformat": 4,
 "nbformat_minor": 5
}
