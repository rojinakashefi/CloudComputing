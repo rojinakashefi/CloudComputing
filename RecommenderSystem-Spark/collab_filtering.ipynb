{
  "nbformat": 4,
  "nbformat_minor": 0,
  "metadata": {
    "colab": {
      "provenance": []
    },
    "kernelspec": {
      "name": "python3",
      "display_name": "Python 3"
    },
    "language_info": {
      "name": "python"
    }
  },
  "cells": [
    {
      "cell_type": "code",
      "source": [
        "!pip install pyspark"
      ],
      "metadata": {
        "colab": {
          "base_uri": "https://localhost:8080/"
        },
        "id": "N-7v4juRaBmc",
        "outputId": "08456b51-1904-4738-9de8-d8e95e35bb12"
      },
      "execution_count": 1,
      "outputs": [
        {
          "output_type": "stream",
          "name": "stdout",
          "text": [
            "Looking in indexes: https://pypi.org/simple, https://us-python.pkg.dev/colab-wheels/public/simple/\n",
            "Collecting pyspark\n",
            "  Downloading pyspark-3.3.1.tar.gz (281.4 MB)\n",
            "\u001b[2K     \u001b[90m━━━━━━━━━━━━━━━━━━━━━━━━━━━━━━━━━━━━━━━\u001b[0m \u001b[32m281.4/281.4 MB\u001b[0m \u001b[31m3.4 MB/s\u001b[0m eta \u001b[36m0:00:00\u001b[0m\n",
            "\u001b[?25h  Preparing metadata (setup.py) ... \u001b[?25l\u001b[?25hdone\n",
            "Collecting py4j==0.10.9.5\n",
            "  Downloading py4j-0.10.9.5-py2.py3-none-any.whl (199 kB)\n",
            "\u001b[2K     \u001b[90m━━━━━━━━━━━━━━━━━━━━━━━━━━━━━━━━━━━━━━━\u001b[0m \u001b[32m199.7/199.7 KB\u001b[0m \u001b[31m8.3 MB/s\u001b[0m eta \u001b[36m0:00:00\u001b[0m\n",
            "\u001b[?25hBuilding wheels for collected packages: pyspark\n",
            "  Building wheel for pyspark (setup.py) ... \u001b[?25l\u001b[?25hdone\n",
            "  Created wheel for pyspark: filename=pyspark-3.3.1-py2.py3-none-any.whl size=281845512 sha256=a6ec1a30b23cccdc95c8e011bdb48d3e66f7f9e8c54f48cdad572c1795b9965b\n",
            "  Stored in directory: /root/.cache/pip/wheels/43/dc/11/ec201cd671da62fa9c5cc77078235e40722170ceba231d7598\n",
            "Successfully built pyspark\n",
            "Installing collected packages: py4j, pyspark\n",
            "Successfully installed py4j-0.10.9.5 pyspark-3.3.1\n"
          ]
        }
      ]
    },
    {
      "cell_type": "code",
      "source": [
        "from google.colab import drive\n",
        "drive.mount('/content/drive/')"
      ],
      "metadata": {
        "colab": {
          "base_uri": "https://localhost:8080/"
        },
        "id": "jRLpgIbWaj8F",
        "outputId": "419fc19f-d962-4877-bc60-8817c72ec27d"
      },
      "execution_count": 2,
      "outputs": [
        {
          "output_type": "stream",
          "name": "stdout",
          "text": [
            "Mounted at /content/drive/\n"
          ]
        }
      ]
    },
    {
      "cell_type": "markdown",
      "source": [
        "## Loading data"
      ],
      "metadata": {
        "id": "MriNzRM6Em7R"
      }
    },
    {
      "cell_type": "code",
      "execution_count": 3,
      "metadata": {
        "id": "HjvHFumdCID3"
      },
      "outputs": [],
      "source": [
        "import pyspark\n",
        "from pyspark.sql import SparkSession\n",
        "from pyspark.sql.types import IntegerType\n",
        "from pyspark.ml.recommendation import ALS, ALSModel\n",
        "from pyspark.ml.evaluation import RegressionEvaluator"
      ]
    },
    {
      "cell_type": "code",
      "source": [
        "spark = SparkSession.builder.appName(\"recommender-system\").getOrCreate()"
      ],
      "metadata": {
        "id": "Gt8PDZSjZJgC"
      },
      "execution_count": 4,
      "outputs": []
    },
    {
      "cell_type": "code",
      "source": [
        "Games = spark.read.csv(\"/content/drive/MyDrive/games.csv\", header='true',inferSchema='true')\n",
        "Ratings = spark.read.csv(\"/content/drive/MyDrive/ratings.csv\", header='true',inferSchema='true')"
      ],
      "metadata": {
        "id": "OMhEw1iTahGl"
      },
      "execution_count": 5,
      "outputs": []
    },
    {
      "cell_type": "code",
      "source": [
        "Games.show()"
      ],
      "metadata": {
        "colab": {
          "base_uri": "https://localhost:8080/"
        },
        "id": "FSmXSKMZ_sLv",
        "outputId": "75669474-e587-4eb3-bd84-3afdfa221fa1"
      },
      "execution_count": 6,
      "outputs": [
        {
          "output_type": "stream",
          "name": "stdout",
          "text": [
            "+-------+--------------------+------------+--------------------+--------------------+\n",
            "|game_id|                name|release_date|             summary|          meta_score|\n",
            "+-------+--------------------+------------+--------------------+--------------------+\n",
            "|      1|The Legend of Zel...|   23-Nov-98|As a young boy, L...|                  99|\n",
            "|      2|Tony Hawk's Pro S...|   20-Sep-00|As most major pub...|                  98|\n",
            "|      3| Grand Theft Auto IV|   29-Apr-08|\"[Metacritic's 20...| fresh off the bo...|\n",
            "|      4|         SoulCalibur|    8-Sep-99|This is a tale of...|                  98|\n",
            "|      5|  Super Mario Galaxy|   12-Nov-07|[Metacritic's 200...|                  97|\n",
            "|      6|Super Mario Galaxy 2|   23-May-10|Super Mario Galax...|                  97|\n",
            "|      7|Red Dead Redempti...|   26-Oct-18|Developed by the ...|                  97|\n",
            "|      8|  Grand Theft Auto V|   18-Nov-14|Grand Theft Auto ...|                  97|\n",
            "|      9|Disco Elysium: Th...|   30-Mar-21|Disco Elysium - T...|                  97|\n",
            "|     10|The Legend of Zel...|    3-Mar-17|Forget everything...|                  97|\n",
            "|     11|Tony Hawk's Pro S...|   28-Oct-01|Challenge up to f...|                  97|\n",
            "|     12|        Perfect Dark|   22-May-00|Step into the Dar...|                  97|\n",
            "|     13|       Metroid Prime|   17-Nov-02|Samus returns in ...|                  97|\n",
            "|     14|Grand Theft Auto III|   22-Oct-01|Players are put a...|                  97|\n",
            "|     15| Super Mario Odyssey|   27-Oct-17|New Evolution of ...|                  97|\n",
            "|     16|Halo: Combat Evolved|   14-Nov-01|Enter the mysteri...|                  97|\n",
            "|     17|The House in Fata...|    9-Apr-21|A gothic suspense...|                  97|\n",
            "|     18|             NFL 2K1|    7-Sep-00|In the end, NFL 2...|                  97|\n",
            "|     19|         Half-Life 2|   16-Nov-04|[Metacritic's 200...|                  96|\n",
            "|     20|            BioShock|   21-Aug-07|\"[Metacritic's 20...|\"\" \"\"monster-clos...|\n",
            "+-------+--------------------+------------+--------------------+--------------------+\n",
            "only showing top 20 rows\n",
            "\n"
          ]
        }
      ]
    },
    {
      "cell_type": "code",
      "source": [
        "Ratings.show()"
      ],
      "metadata": {
        "colab": {
          "base_uri": "https://localhost:8080/"
        },
        "id": "30JSAHAiA-0D",
        "outputId": "1fbd2a6a-f985-45d9-e1b9-4d93b89f7a6f"
      },
      "execution_count": 7,
      "outputs": [
        {
          "output_type": "stream",
          "name": "stdout",
          "text": [
            "+-------+-------+------+\n",
            "|game_id|user_id|rating|\n",
            "+-------+-------+------+\n",
            "|      1|    314|     5|\n",
            "|      1|    439|     3|\n",
            "|      1|    588|     5|\n",
            "|      1|   1169|     4|\n",
            "|      1|   1185|     4|\n",
            "|      1|   2077|     4|\n",
            "|      1|   2487|     4|\n",
            "|      1|   2900|     5|\n",
            "|      1|   3662|     4|\n",
            "|      1|   3922|     5|\n",
            "|      1|   5379|     5|\n",
            "|      1|   5461|     3|\n",
            "|      1|   5885|     5|\n",
            "|      1|   6630|     5|\n",
            "|      1|   7563|     3|\n",
            "|      1|   9246|     1|\n",
            "|      1|  10140|     4|\n",
            "|      1|  10146|     5|\n",
            "|      1|  10246|     4|\n",
            "|      1|  10335|     4|\n",
            "+-------+-------+------+\n",
            "only showing top 20 rows\n",
            "\n"
          ]
        }
      ]
    },
    {
      "cell_type": "code",
      "source": [
        "from pyspark.sql.functions import max"
      ],
      "metadata": {
        "id": "9QMRBy-m5M24"
      },
      "execution_count": 8,
      "outputs": []
    },
    {
      "cell_type": "code",
      "source": [
        "print(Ratings.select(max('rating')).show())"
      ],
      "metadata": {
        "colab": {
          "base_uri": "https://localhost:8080/"
        },
        "id": "wVYwYR9H3aab",
        "outputId": "9345ed89-95b1-4c86-edef-eaa2df1df0b0"
      },
      "execution_count": 9,
      "outputs": [
        {
          "output_type": "stream",
          "name": "stdout",
          "text": [
            "+-----------+\n",
            "|max(rating)|\n",
            "+-----------+\n",
            "|          5|\n",
            "+-----------+\n",
            "\n",
            "None\n"
          ]
        }
      ]
    },
    {
      "cell_type": "markdown",
      "source": [
        "<div align=\"right\" dir=\"auto\">\n",
        "برای اینکه بتوانیم روی دیتای لود شده به وسیله تابع  spark.sql\n",
        "    کوئری‌های SQL بزنیم\n",
        "    باید دو دیتاست لود شده را به عنوان table\n",
        "    به spark \n",
        "    معرفی کنیم\n",
        "</div>"
      ],
      "metadata": {
        "id": "KCdCfbe7zdoM"
      }
    },
    {
      "cell_type": "code",
      "source": [
        "# for applying sql commands in pyspark we should use \n",
        "Ratings.registerTempTable(\"Ratings\")\n",
        "Games.registerTempTable(\"Games\")"
      ],
      "metadata": {
        "id": "HpZQ9Z-Symbn"
      },
      "execution_count": null,
      "outputs": []
    },
    {
      "cell_type": "markdown",
      "source": [
        "<div align=\"right\" dir=\"auto\">\n",
        "برای اینکه تمام اطلاعات را در کنار همدیگر مشاهده کنیم نیاز به جوین کردن داده‌ها داریم.\n",
        "\n",
        "</div>"
      ],
      "metadata": {
        "id": "qy0FMDZezEB3"
      }
    },
    {
      "cell_type": "code",
      "source": [
        "all_data = spark.sql(\"SELECT Games.game_id, Ratings.user_id, Ratings.rating, Games.name, Games.release_date, Games.summary, Games.meta_score FROM Ratings INNER JOIN Games On Ratings.game_id = Games.game_id\")\n",
        "all_data.show()"
      ],
      "metadata": {
        "colab": {
          "base_uri": "https://localhost:8080/"
        },
        "id": "bbKFS8kZzjbB",
        "outputId": "28ba8e52-02ba-45f4-baa8-7cbb39cbab62"
      },
      "execution_count": 11,
      "outputs": [
        {
          "output_type": "stream",
          "name": "stdout",
          "text": [
            "+-------+-------+------+--------------------+------------+--------------------+----------+\n",
            "|game_id|user_id|rating|                name|release_date|             summary|meta_score|\n",
            "+-------+-------+------+--------------------+------------+--------------------+----------+\n",
            "|      1|    314|     5|The Legend of Zel...|   23-Nov-98|As a young boy, L...|        99|\n",
            "|      1|    439|     3|The Legend of Zel...|   23-Nov-98|As a young boy, L...|        99|\n",
            "|      1|    588|     5|The Legend of Zel...|   23-Nov-98|As a young boy, L...|        99|\n",
            "|      1|   1169|     4|The Legend of Zel...|   23-Nov-98|As a young boy, L...|        99|\n",
            "|      1|   1185|     4|The Legend of Zel...|   23-Nov-98|As a young boy, L...|        99|\n",
            "|      1|   2077|     4|The Legend of Zel...|   23-Nov-98|As a young boy, L...|        99|\n",
            "|      1|   2487|     4|The Legend of Zel...|   23-Nov-98|As a young boy, L...|        99|\n",
            "|      1|   2900|     5|The Legend of Zel...|   23-Nov-98|As a young boy, L...|        99|\n",
            "|      1|   3662|     4|The Legend of Zel...|   23-Nov-98|As a young boy, L...|        99|\n",
            "|      1|   3922|     5|The Legend of Zel...|   23-Nov-98|As a young boy, L...|        99|\n",
            "|      1|   5379|     5|The Legend of Zel...|   23-Nov-98|As a young boy, L...|        99|\n",
            "|      1|   5461|     3|The Legend of Zel...|   23-Nov-98|As a young boy, L...|        99|\n",
            "|      1|   5885|     5|The Legend of Zel...|   23-Nov-98|As a young boy, L...|        99|\n",
            "|      1|   6630|     5|The Legend of Zel...|   23-Nov-98|As a young boy, L...|        99|\n",
            "|      1|   7563|     3|The Legend of Zel...|   23-Nov-98|As a young boy, L...|        99|\n",
            "|      1|   9246|     1|The Legend of Zel...|   23-Nov-98|As a young boy, L...|        99|\n",
            "|      1|  10140|     4|The Legend of Zel...|   23-Nov-98|As a young boy, L...|        99|\n",
            "|      1|  10146|     5|The Legend of Zel...|   23-Nov-98|As a young boy, L...|        99|\n",
            "|      1|  10246|     4|The Legend of Zel...|   23-Nov-98|As a young boy, L...|        99|\n",
            "|      1|  10335|     4|The Legend of Zel...|   23-Nov-98|As a young boy, L...|        99|\n",
            "+-------+-------+------+--------------------+------------+--------------------+----------+\n",
            "only showing top 20 rows\n",
            "\n"
          ]
        }
      ]
    },
    {
      "cell_type": "code",
      "source": [
        "print(Ratings.filter(Ratings['user_id'] == 588).show())"
      ],
      "metadata": {
        "colab": {
          "base_uri": "https://localhost:8080/"
        },
        "id": "ngBW6vfnCve9",
        "outputId": "3fa8b0d4-573e-490a-de92-d11de9f5ee77"
      },
      "execution_count": 17,
      "outputs": [
        {
          "output_type": "stream",
          "name": "stdout",
          "text": [
            "+-------+-------+------+\n",
            "|game_id|user_id|rating|\n",
            "+-------+-------+------+\n",
            "|      1|    588|     5|\n",
            "|      3|    588|     1|\n",
            "|      8|    588|     3|\n",
            "|      9|    588|     3|\n",
            "|     11|    588|     4|\n",
            "|     15|    588|     4|\n",
            "|     18|    588|     5|\n",
            "|     19|    588|     4|\n",
            "|     20|    588|     3|\n",
            "|     21|    588|     4|\n",
            "|     22|    588|     3|\n",
            "|     23|    588|     3|\n",
            "|     24|    588|     4|\n",
            "|     25|    588|     5|\n",
            "|     26|    588|     3|\n",
            "|     27|    588|     4|\n",
            "|     29|    588|     3|\n",
            "|     33|    588|     3|\n",
            "|     35|    588|     4|\n",
            "|     37|    588|     3|\n",
            "+-------+-------+------+\n",
            "only showing top 20 rows\n",
            "\n",
            "None\n"
          ]
        }
      ]
    },
    {
      "cell_type": "markdown",
      "source": [
        "## Create ALS model"
      ],
      "metadata": {
        "id": "Cn0hJz7mEpST"
      }
    },
    {
      "cell_type": "code",
      "source": [
        "(train, test) = all_data.randomSplit([0.7, 0.3], seed=42)"
      ],
      "metadata": {
        "id": "0eMUtrvUdXjJ"
      },
      "execution_count": 18,
      "outputs": []
    },
    {
      "cell_type": "code",
      "source": [
        "# cold start strategy to 'drop' to ensure we don't get NaN evaluation metrics\n",
        "# numBlocks (default 10): The number of blocks the users and items will be partitioned into in order to parallelize the computation.\n",
        "# maxIter: Number of iterations.(default 10)\n",
        "# regParam: Regularization parameter in ALS to prevent overfitting. The default value is 1.\n",
        "# implicitPrefs: Boolean (True/False). Corresponds to if explicit or implicit feedback to use.\n",
        "# explicit preferences given by the user to the item, for example.\n",
        "\n",
        "# https://spark.apache.org/docs/2.2.0/ml-collaborative-filtering.html\n",
        "\n",
        "als = ALS(maxIter=10, regParam=0.1, userCol=\"user_id\", itemCol=\"game_id\", ratingCol=\"rating\", coldStartStrategy=\"drop\", implicitPrefs=False)\n",
        "model = als.fit(train)"
      ],
      "metadata": {
        "id": "hfWMshvZdbFt"
      },
      "execution_count": 19,
      "outputs": []
    },
    {
      "cell_type": "code",
      "source": [
        "# Evaluate the mode\n",
        "predictions = model.transform(test)\n",
        "predictions.show()"
      ],
      "metadata": {
        "colab": {
          "base_uri": "https://localhost:8080/"
        },
        "id": "Fyad-H-0Ey4V",
        "outputId": "6df22c8f-7838-4e83-f6f0-3c4d5c9429b0"
      },
      "execution_count": 20,
      "outputs": [
        {
          "output_type": "stream",
          "name": "stdout",
          "text": [
            "+-------+-------+------+--------------------+------------+--------------------+----------+----------+\n",
            "|game_id|user_id|rating|                name|release_date|             summary|meta_score|prediction|\n",
            "+-------+-------+------+--------------------+------------+--------------------+----------+----------+\n",
            "|      1|    588|     5|The Legend of Zel...|   23-Nov-98|As a young boy, L...|        99| 3.7248714|\n",
            "|      1|   2487|     4|The Legend of Zel...|   23-Nov-98|As a young boy, L...|        99| 3.5390494|\n",
            "|      1|   3662|     4|The Legend of Zel...|   23-Nov-98|As a young boy, L...|        99|  4.901407|\n",
            "|      1|   3922|     5|The Legend of Zel...|   23-Nov-98|As a young boy, L...|        99| 4.3520236|\n",
            "|      1|   6630|     5|The Legend of Zel...|   23-Nov-98|As a young boy, L...|        99| 4.0468984|\n",
            "|      1|   7563|     3|The Legend of Zel...|   23-Nov-98|As a young boy, L...|        99| 3.6409101|\n",
            "|      1|   9246|     1|The Legend of Zel...|   23-Nov-98|As a young boy, L...|        99| 3.6652455|\n",
            "|      1|  10335|     4|The Legend of Zel...|   23-Nov-98|As a young boy, L...|        99| 3.9384363|\n",
            "|      1|  10944|     5|The Legend of Zel...|   23-Nov-98|As a young boy, L...|        99|  4.119333|\n",
            "|      1|  11927|     4|The Legend of Zel...|   23-Nov-98|As a young boy, L...|        99| 4.0724726|\n",
            "|      1|  12471|     5|The Legend of Zel...|   23-Nov-98|As a young boy, L...|        99|  4.033147|\n",
            "|      1|  16377|     4|The Legend of Zel...|   23-Nov-98|As a young boy, L...|        99| 4.3106313|\n",
            "|      1|  16913|     5|The Legend of Zel...|   23-Nov-98|As a young boy, L...|        99|  4.514619|\n",
            "|      1|  17434|     5|The Legend of Zel...|   23-Nov-98|As a young boy, L...|        99|   4.19032|\n",
            "|      1|  17984|     5|The Legend of Zel...|   23-Nov-98|As a young boy, L...|        99|   4.63776|\n",
            "|      1|  18313|     5|The Legend of Zel...|   23-Nov-98|As a young boy, L...|        99| 4.4673233|\n",
            "|      1|  18361|     4|The Legend of Zel...|   23-Nov-98|As a young boy, L...|        99| 4.3931537|\n",
            "|      1|  21228|     5|The Legend of Zel...|   23-Nov-98|As a young boy, L...|        99| 4.4887123|\n",
            "|      1|  22602|     4|The Legend of Zel...|   23-Nov-98|As a young boy, L...|        99| 3.3572884|\n",
            "|      1|  23576|     4|The Legend of Zel...|   23-Nov-98|As a young boy, L...|        99|  3.759593|\n",
            "+-------+-------+------+--------------------+------------+--------------------+----------+----------+\n",
            "only showing top 20 rows\n",
            "\n"
          ]
        }
      ]
    },
    {
      "cell_type": "markdown",
      "source": [
        "## Evaluate ALS"
      ],
      "metadata": {
        "id": "E01Tp9ss7_8o"
      }
    },
    {
      "cell_type": "code",
      "source": [
        "evaluator = RegressionEvaluator(metricName= \"rmse\", labelCol=\"rating\", predictionCol=\"prediction\")"
      ],
      "metadata": {
        "id": "IJV3aQyb7deG"
      },
      "execution_count": 21,
      "outputs": []
    },
    {
      "cell_type": "code",
      "source": [
        "rmse = evaluator.evaluate(predictions)\n",
        "print(f\"RMSE Error rate: {rmse}\")"
      ],
      "metadata": {
        "colab": {
          "base_uri": "https://localhost:8080/"
        },
        "id": "c-TvoxVN7i-9",
        "outputId": "84c5c80c-adf4-4374-aed4-100f947c8009"
      },
      "execution_count": 22,
      "outputs": [
        {
          "output_type": "stream",
          "name": "stdout",
          "text": [
            "RMSE Error rate: 0.9232783575332598\n"
          ]
        }
      ]
    },
    {
      "cell_type": "markdown",
      "source": [
        "## Build Recommender"
      ],
      "metadata": {
        "id": "UZMlVVTKHlO7"
      }
    },
    {
      "cell_type": "code",
      "source": [
        "def getusers (data, id):\n",
        "  return data.filter(data['user_id'] == str(id)).select([\"game_id\", 'user_id'])"
      ],
      "metadata": {
        "id": "xYI10po68P1i"
      },
      "execution_count": 23,
      "outputs": []
    },
    {
      "cell_type": "code",
      "source": [
        "specific_user = getusers(test, 588 )\n",
        "specific_user.show()"
      ],
      "metadata": {
        "colab": {
          "base_uri": "https://localhost:8080/"
        },
        "id": "O2LjPRZ98Sus",
        "outputId": "02736b52-5bd1-44b0-8ef2-a5e44fa2a6bb"
      },
      "execution_count": 24,
      "outputs": [
        {
          "output_type": "stream",
          "name": "stdout",
          "text": [
            "+-------+-------+\n",
            "|game_id|user_id|\n",
            "+-------+-------+\n",
            "|      1|    588|\n",
            "|      9|    588|\n",
            "|     11|    588|\n",
            "|     19|    588|\n",
            "|     20|    588|\n",
            "|     27|    588|\n",
            "|     29|    588|\n",
            "|     33|    588|\n",
            "|     45|    588|\n",
            "|     49|    588|\n",
            "|     67|    588|\n",
            "|     68|    588|\n",
            "|     79|    588|\n",
            "|     81|    588|\n",
            "|    101|    588|\n",
            "|    112|    588|\n",
            "|    124|    588|\n",
            "|    161|    588|\n",
            "|    179|    588|\n",
            "|    213|    588|\n",
            "+-------+-------+\n",
            "only showing top 20 rows\n",
            "\n"
          ]
        }
      ]
    },
    {
      "cell_type": "code",
      "source": [
        "result = model.transform(specific_user)\n",
        "result.orderBy(\"prediction\", ascending = False).show()"
      ],
      "metadata": {
        "colab": {
          "base_uri": "https://localhost:8080/"
        },
        "id": "jwpTc-DQ8b_Z",
        "outputId": "3e2640b7-510b-4e0a-e31c-c811d84dcba4"
      },
      "execution_count": 25,
      "outputs": [
        {
          "output_type": "stream",
          "name": "stdout",
          "text": [
            "+-------+-------+----------+\n",
            "|game_id|user_id|prediction|\n",
            "+-------+-------+----------+\n",
            "|    161|    588| 4.2320056|\n",
            "|     19|    588| 4.1328993|\n",
            "|    516|    588| 4.1308217|\n",
            "|    368|    588|  4.081168|\n",
            "|    377|    588|  4.080956|\n",
            "|    663|    588| 4.0223837|\n",
            "|    669|    588|  3.986939|\n",
            "|     27|    588| 3.9719193|\n",
            "|     68|    588| 3.9556935|\n",
            "|    446|    588|  3.952763|\n",
            "|    534|    588| 3.9521356|\n",
            "|    671|    588|  3.886736|\n",
            "|    124|    588|  3.813913|\n",
            "|     81|    588| 3.7848575|\n",
            "|    538|    588| 3.7780554|\n",
            "|    544|    588| 3.7766187|\n",
            "|    213|    588|   3.77581|\n",
            "|    179|    588| 3.7623775|\n",
            "|    480|    588| 3.7386234|\n",
            "|      1|    588| 3.7248714|\n",
            "+-------+-------+----------+\n",
            "only showing top 20 rows\n",
            "\n"
          ]
        }
      ]
    }
  ]
}